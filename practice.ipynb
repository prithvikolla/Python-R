{
  "nbformat": 4,
  "nbformat_minor": 0,
  "metadata": {
    "colab": {
      "name": "practice.ipynb",
      "provenance": [],
      "collapsed_sections": [],
      "authorship_tag": "ABX9TyM//+YPcVnQDFlfrWdArRJ3",
      "include_colab_link": true
    },
    "kernelspec": {
      "name": "python3",
      "display_name": "Python 3"
    },
    "language_info": {
      "name": "python"
    }
  },
  "cells": [
    {
      "cell_type": "markdown",
      "metadata": {
        "id": "view-in-github",
        "colab_type": "text"
      },
      "source": [
        "<a href=\"https://colab.research.google.com/github/prithvikolla/Python-R/blob/master/practice.ipynb\" target=\"_parent\"><img src=\"https://colab.research.google.com/assets/colab-badge.svg\" alt=\"Open In Colab\"/></a>"
      ]
    },
    {
      "cell_type": "code",
      "metadata": {
        "colab": {
          "base_uri": "https://localhost:8080/"
        },
        "id": "kAFJAf5IzNgI",
        "outputId": "08b505b7-47aa-4783-8b81-31db14c3deb5"
      },
      "source": [
        "import pandas as pd\n",
        "list = [['prithvi',1], ['hima',2],['maya',3],['neno',4]]\n",
        "df = pd.DataFrame(list, columns = ['Name','Id'])\n",
        "print(df)"
      ],
      "execution_count": 14,
      "outputs": [
        {
          "output_type": "stream",
          "text": [
            "      Name  Id\n",
            "0  prithvi   1\n",
            "1     hima   2\n",
            "2     maya   3\n",
            "3     neno   4\n"
          ],
          "name": "stdout"
        }
      ]
    },
    {
      "cell_type": "code",
      "metadata": {
        "colab": {
          "base_uri": "https://localhost:8080/"
        },
        "id": "Tr4OElsXzvHC",
        "outputId": "6fffdae8-8b41-4cde-b2b2-1c2d3e0737cd"
      },
      "source": [
        "df.info()"
      ],
      "execution_count": 15,
      "outputs": [
        {
          "output_type": "stream",
          "text": [
            "<class 'pandas.core.frame.DataFrame'>\n",
            "RangeIndex: 4 entries, 0 to 3\n",
            "Data columns (total 2 columns):\n",
            " #   Column  Non-Null Count  Dtype \n",
            "---  ------  --------------  ----- \n",
            " 0   Name    4 non-null      object\n",
            " 1   Id      4 non-null      int64 \n",
            "dtypes: int64(1), object(1)\n",
            "memory usage: 192.0+ bytes\n"
          ],
          "name": "stdout"
        }
      ]
    },
    {
      "cell_type": "code",
      "metadata": {
        "colab": {
          "base_uri": "https://localhost:8080/"
        },
        "id": "7WtZ9jo75lKz",
        "outputId": "30be178a-6afd-483c-a77e-306c19bb7814"
      },
      "source": [
        "dic = {'Name':['kali','billi','chudail'],\n",
        "       'ID':[1,2,3]}\n",
        "df_two = pd.DataFrame(dic,index=['Manager','Programer','InHuman'])\n",
        "print(df_two)"
      ],
      "execution_count": 19,
      "outputs": [
        {
          "output_type": "stream",
          "text": [
            "              Name  ID\n",
            "Manager       kali   1\n",
            "Programer    billi   2\n",
            "InHuman    chudail   3\n"
          ],
          "name": "stdout"
        }
      ]
    },
    {
      "cell_type": "code",
      "metadata": {
        "id": "bhChf4idGaLJ"
      },
      "source": [
        ""
      ],
      "execution_count": null,
      "outputs": []
    }
  ]
}